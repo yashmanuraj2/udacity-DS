{
  "nbformat": 4,
  "nbformat_minor": 0,
  "metadata": {
    "colab": {
      "name": "DSproject",
      "provenance": [],
      "collapsed_sections": [],
      "toc_visible": true,
      "mount_file_id": "1vOoO2-koD8R-f9NHEi9Xtz2SExJ9DFt5",
      "authorship_tag": "ABX9TyMkoR+b/GU851G1gbvJahwe",
      "include_colab_link": true
    },
    "kernelspec": {
      "name": "python3",
      "display_name": "Python 3"
    }
  },
  "cells": [
    {
      "cell_type": "markdown",
      "metadata": {
        "id": "view-in-github",
        "colab_type": "text"
      },
      "source": [
        "<a href=\"https://colab.research.google.com/github/yashmanuraj2/udacity-DS/blob/master/DSproject.ipynb\" target=\"_parent\"><img src=\"https://colab.research.google.com/assets/colab-badge.svg\" alt=\"Open In Colab\"/></a>"
      ]
    },
    {
      "cell_type": "code",
      "metadata": {
        "id": "9CjaPjui7C_8",
        "colab_type": "code",
        "outputId": "cabaaa94-c637-4baf-8bd1-7ca95dc8e737",
        "colab": {
          "base_uri": "https://localhost:8080/",
          "height": 55
        }
      },
      "source": [
        " from google.colab import drive\n",
        "drive.mount('/content/drive')"
      ],
      "execution_count": 4,
      "outputs": [
        {
          "output_type": "stream",
          "text": [
            "Drive already mounted at /content/drive; to attempt to forcibly remount, call drive.mount(\"/content/drive\", force_remount=True).\n"
          ],
          "name": "stdout"
        }
      ]
    },
    {
      "cell_type": "code",
      "metadata": {
        "id": "VSZsZL6B7TgW",
        "colab_type": "code",
        "outputId": "5d60ab29-ca05-41b9-b492-8979194b7bf3",
        "colab": {
          "base_uri": "https://localhost:8080/",
          "height": 813
        }
      },
      "source": [
        "import numpy as np\n",
        "import pandas as pd\n",
        "import matplotlib.pyplot as plt\n",
        "from sklearn.linear_model import LinearRegression\n",
        "from sklearn.model_selection import train_test_split\n",
        "from sklearn.metrics import r2_score, mean_squared_error\n",
        "import seaborn as sns\n",
        "\n",
        "cd = pd.read_csv('/content/drive/My Drive/boston/calendar.csv')\n",
        "li = pd.read_csv('/content/drive/My Drive/boston/listings.csv')\n",
        "rev = pd.read_csv('/content/drive/My Drive/boston/reviews.csv')\n",
        "\n",
        "li.head()\n",
        "\n",
        "\n",
        "\n"
      ],
      "execution_count": 5,
      "outputs": [
        {
          "output_type": "stream",
          "text": [
            "/usr/local/lib/python3.6/dist-packages/statsmodels/tools/_testing.py:19: FutureWarning: pandas.util.testing is deprecated. Use the functions in the public API at pandas.testing instead.\n",
            "  import pandas.util.testing as tm\n"
          ],
          "name": "stderr"
        },
        {
          "output_type": "execute_result",
          "data": {
            "text/html": [
              "<div>\n",
              "<style scoped>\n",
              "    .dataframe tbody tr th:only-of-type {\n",
              "        vertical-align: middle;\n",
              "    }\n",
              "\n",
              "    .dataframe tbody tr th {\n",
              "        vertical-align: top;\n",
              "    }\n",
              "\n",
              "    .dataframe thead th {\n",
              "        text-align: right;\n",
              "    }\n",
              "</style>\n",
              "<table border=\"1\" class=\"dataframe\">\n",
              "  <thead>\n",
              "    <tr style=\"text-align: right;\">\n",
              "      <th></th>\n",
              "      <th>id</th>\n",
              "      <th>listing_url</th>\n",
              "      <th>scrape_id</th>\n",
              "      <th>last_scraped</th>\n",
              "      <th>name</th>\n",
              "      <th>summary</th>\n",
              "      <th>space</th>\n",
              "      <th>description</th>\n",
              "      <th>experiences_offered</th>\n",
              "      <th>neighborhood_overview</th>\n",
              "      <th>notes</th>\n",
              "      <th>transit</th>\n",
              "      <th>access</th>\n",
              "      <th>interaction</th>\n",
              "      <th>house_rules</th>\n",
              "      <th>thumbnail_url</th>\n",
              "      <th>medium_url</th>\n",
              "      <th>picture_url</th>\n",
              "      <th>xl_picture_url</th>\n",
              "      <th>host_id</th>\n",
              "      <th>host_url</th>\n",
              "      <th>host_name</th>\n",
              "      <th>host_since</th>\n",
              "      <th>host_location</th>\n",
              "      <th>host_about</th>\n",
              "      <th>host_response_time</th>\n",
              "      <th>host_response_rate</th>\n",
              "      <th>host_acceptance_rate</th>\n",
              "      <th>host_is_superhost</th>\n",
              "      <th>host_thumbnail_url</th>\n",
              "      <th>host_picture_url</th>\n",
              "      <th>host_neighbourhood</th>\n",
              "      <th>host_listings_count</th>\n",
              "      <th>host_total_listings_count</th>\n",
              "      <th>host_verifications</th>\n",
              "      <th>host_has_profile_pic</th>\n",
              "      <th>host_identity_verified</th>\n",
              "      <th>street</th>\n",
              "      <th>neighbourhood</th>\n",
              "      <th>neighbourhood_cleansed</th>\n",
              "      <th>...</th>\n",
              "      <th>bedrooms</th>\n",
              "      <th>beds</th>\n",
              "      <th>bed_type</th>\n",
              "      <th>amenities</th>\n",
              "      <th>square_feet</th>\n",
              "      <th>price</th>\n",
              "      <th>weekly_price</th>\n",
              "      <th>monthly_price</th>\n",
              "      <th>security_deposit</th>\n",
              "      <th>cleaning_fee</th>\n",
              "      <th>guests_included</th>\n",
              "      <th>extra_people</th>\n",
              "      <th>minimum_nights</th>\n",
              "      <th>maximum_nights</th>\n",
              "      <th>calendar_updated</th>\n",
              "      <th>has_availability</th>\n",
              "      <th>availability_30</th>\n",
              "      <th>availability_60</th>\n",
              "      <th>availability_90</th>\n",
              "      <th>availability_365</th>\n",
              "      <th>calendar_last_scraped</th>\n",
              "      <th>number_of_reviews</th>\n",
              "      <th>first_review</th>\n",
              "      <th>last_review</th>\n",
              "      <th>review_scores_rating</th>\n",
              "      <th>review_scores_accuracy</th>\n",
              "      <th>review_scores_cleanliness</th>\n",
              "      <th>review_scores_checkin</th>\n",
              "      <th>review_scores_communication</th>\n",
              "      <th>review_scores_location</th>\n",
              "      <th>review_scores_value</th>\n",
              "      <th>requires_license</th>\n",
              "      <th>license</th>\n",
              "      <th>jurisdiction_names</th>\n",
              "      <th>instant_bookable</th>\n",
              "      <th>cancellation_policy</th>\n",
              "      <th>require_guest_profile_picture</th>\n",
              "      <th>require_guest_phone_verification</th>\n",
              "      <th>calculated_host_listings_count</th>\n",
              "      <th>reviews_per_month</th>\n",
              "    </tr>\n",
              "  </thead>\n",
              "  <tbody>\n",
              "    <tr>\n",
              "      <th>0</th>\n",
              "      <td>12147973</td>\n",
              "      <td>https://www.airbnb.com/rooms/12147973</td>\n",
              "      <td>20160906204935</td>\n",
              "      <td>2016-09-07</td>\n",
              "      <td>Sunny Bungalow in the City</td>\n",
              "      <td>Cozy, sunny, family home.  Master bedroom high...</td>\n",
              "      <td>The house has an open and cozy feel at the sam...</td>\n",
              "      <td>Cozy, sunny, family home.  Master bedroom high...</td>\n",
              "      <td>none</td>\n",
              "      <td>Roslindale is quiet, convenient and friendly. ...</td>\n",
              "      <td>NaN</td>\n",
              "      <td>The bus stop is 2 blocks away, and frequent. B...</td>\n",
              "      <td>You will have access to 2 bedrooms, a living r...</td>\n",
              "      <td>NaN</td>\n",
              "      <td>Clean up and treat the home the way you'd like...</td>\n",
              "      <td>https://a2.muscache.com/im/pictures/c0842db1-e...</td>\n",
              "      <td>https://a2.muscache.com/im/pictures/c0842db1-e...</td>\n",
              "      <td>https://a2.muscache.com/im/pictures/c0842db1-e...</td>\n",
              "      <td>https://a2.muscache.com/im/pictures/c0842db1-e...</td>\n",
              "      <td>31303940</td>\n",
              "      <td>https://www.airbnb.com/users/show/31303940</td>\n",
              "      <td>Virginia</td>\n",
              "      <td>2015-04-15</td>\n",
              "      <td>Boston, Massachusetts, United States</td>\n",
              "      <td>We are country and city connecting in our deck...</td>\n",
              "      <td>NaN</td>\n",
              "      <td>NaN</td>\n",
              "      <td>NaN</td>\n",
              "      <td>f</td>\n",
              "      <td>https://a2.muscache.com/im/pictures/5936fef0-b...</td>\n",
              "      <td>https://a2.muscache.com/im/pictures/5936fef0-b...</td>\n",
              "      <td>Roslindale</td>\n",
              "      <td>1</td>\n",
              "      <td>1</td>\n",
              "      <td>['email', 'phone', 'facebook', 'reviews']</td>\n",
              "      <td>t</td>\n",
              "      <td>f</td>\n",
              "      <td>Birch Street, Boston, MA 02131, United States</td>\n",
              "      <td>Roslindale</td>\n",
              "      <td>Roslindale</td>\n",
              "      <td>...</td>\n",
              "      <td>2.0</td>\n",
              "      <td>3.0</td>\n",
              "      <td>Real Bed</td>\n",
              "      <td>{TV,\"Wireless Internet\",Kitchen,\"Free Parking ...</td>\n",
              "      <td>NaN</td>\n",
              "      <td>$250.00</td>\n",
              "      <td>NaN</td>\n",
              "      <td>NaN</td>\n",
              "      <td>NaN</td>\n",
              "      <td>$35.00</td>\n",
              "      <td>1</td>\n",
              "      <td>$0.00</td>\n",
              "      <td>2</td>\n",
              "      <td>1125</td>\n",
              "      <td>2 weeks ago</td>\n",
              "      <td>NaN</td>\n",
              "      <td>0</td>\n",
              "      <td>0</td>\n",
              "      <td>0</td>\n",
              "      <td>0</td>\n",
              "      <td>2016-09-06</td>\n",
              "      <td>0</td>\n",
              "      <td>NaN</td>\n",
              "      <td>NaN</td>\n",
              "      <td>NaN</td>\n",
              "      <td>NaN</td>\n",
              "      <td>NaN</td>\n",
              "      <td>NaN</td>\n",
              "      <td>NaN</td>\n",
              "      <td>NaN</td>\n",
              "      <td>NaN</td>\n",
              "      <td>f</td>\n",
              "      <td>NaN</td>\n",
              "      <td>NaN</td>\n",
              "      <td>f</td>\n",
              "      <td>moderate</td>\n",
              "      <td>f</td>\n",
              "      <td>f</td>\n",
              "      <td>1</td>\n",
              "      <td>NaN</td>\n",
              "    </tr>\n",
              "    <tr>\n",
              "      <th>1</th>\n",
              "      <td>3075044</td>\n",
              "      <td>https://www.airbnb.com/rooms/3075044</td>\n",
              "      <td>20160906204935</td>\n",
              "      <td>2016-09-07</td>\n",
              "      <td>Charming room in pet friendly apt</td>\n",
              "      <td>Charming and quiet room in a second floor 1910...</td>\n",
              "      <td>Small but cozy and quite room with a full size...</td>\n",
              "      <td>Charming and quiet room in a second floor 1910...</td>\n",
              "      <td>none</td>\n",
              "      <td>The room is in Roslindale, a diverse and prima...</td>\n",
              "      <td>If you don't have a US cell phone, you can tex...</td>\n",
              "      <td>Plenty of safe street parking. Bus stops a few...</td>\n",
              "      <td>Apt has one more bedroom (which I use) and lar...</td>\n",
              "      <td>If I am at home, I am likely working in my hom...</td>\n",
              "      <td>Pet friendly but please confirm with me if the...</td>\n",
              "      <td>https://a1.muscache.com/im/pictures/39327812/d...</td>\n",
              "      <td>https://a1.muscache.com/im/pictures/39327812/d...</td>\n",
              "      <td>https://a1.muscache.com/im/pictures/39327812/d...</td>\n",
              "      <td>https://a1.muscache.com/im/pictures/39327812/d...</td>\n",
              "      <td>2572247</td>\n",
              "      <td>https://www.airbnb.com/users/show/2572247</td>\n",
              "      <td>Andrea</td>\n",
              "      <td>2012-06-07</td>\n",
              "      <td>Boston, Massachusetts, United States</td>\n",
              "      <td>I live in Boston and I like to travel and have...</td>\n",
              "      <td>within an hour</td>\n",
              "      <td>100%</td>\n",
              "      <td>100%</td>\n",
              "      <td>f</td>\n",
              "      <td>https://a2.muscache.com/im/users/2572247/profi...</td>\n",
              "      <td>https://a2.muscache.com/im/users/2572247/profi...</td>\n",
              "      <td>Roslindale</td>\n",
              "      <td>1</td>\n",
              "      <td>1</td>\n",
              "      <td>['email', 'phone', 'facebook', 'linkedin', 'am...</td>\n",
              "      <td>t</td>\n",
              "      <td>t</td>\n",
              "      <td>Pinehurst Street, Boston, MA 02131, United States</td>\n",
              "      <td>Roslindale</td>\n",
              "      <td>Roslindale</td>\n",
              "      <td>...</td>\n",
              "      <td>1.0</td>\n",
              "      <td>1.0</td>\n",
              "      <td>Real Bed</td>\n",
              "      <td>{TV,Internet,\"Wireless Internet\",\"Air Conditio...</td>\n",
              "      <td>NaN</td>\n",
              "      <td>$65.00</td>\n",
              "      <td>$400.00</td>\n",
              "      <td>NaN</td>\n",
              "      <td>$95.00</td>\n",
              "      <td>$10.00</td>\n",
              "      <td>0</td>\n",
              "      <td>$0.00</td>\n",
              "      <td>2</td>\n",
              "      <td>15</td>\n",
              "      <td>a week ago</td>\n",
              "      <td>NaN</td>\n",
              "      <td>26</td>\n",
              "      <td>54</td>\n",
              "      <td>84</td>\n",
              "      <td>359</td>\n",
              "      <td>2016-09-06</td>\n",
              "      <td>36</td>\n",
              "      <td>2014-06-01</td>\n",
              "      <td>2016-08-13</td>\n",
              "      <td>94.0</td>\n",
              "      <td>10.0</td>\n",
              "      <td>9.0</td>\n",
              "      <td>10.0</td>\n",
              "      <td>10.0</td>\n",
              "      <td>9.0</td>\n",
              "      <td>9.0</td>\n",
              "      <td>f</td>\n",
              "      <td>NaN</td>\n",
              "      <td>NaN</td>\n",
              "      <td>t</td>\n",
              "      <td>moderate</td>\n",
              "      <td>f</td>\n",
              "      <td>f</td>\n",
              "      <td>1</td>\n",
              "      <td>1.30</td>\n",
              "    </tr>\n",
              "    <tr>\n",
              "      <th>2</th>\n",
              "      <td>6976</td>\n",
              "      <td>https://www.airbnb.com/rooms/6976</td>\n",
              "      <td>20160906204935</td>\n",
              "      <td>2016-09-07</td>\n",
              "      <td>Mexican Folk Art Haven in Boston</td>\n",
              "      <td>Come stay with a friendly, middle-aged guy in ...</td>\n",
              "      <td>Come stay with a friendly, middle-aged guy in ...</td>\n",
              "      <td>Come stay with a friendly, middle-aged guy in ...</td>\n",
              "      <td>none</td>\n",
              "      <td>The LOCATION: Roslindale is a safe and diverse...</td>\n",
              "      <td>I am in a scenic part of Boston with a couple ...</td>\n",
              "      <td>PUBLIC TRANSPORTATION: From the house, quick p...</td>\n",
              "      <td>I am living in the apartment during your stay,...</td>\n",
              "      <td>ABOUT ME: I'm a laid-back, friendly, unmarried...</td>\n",
              "      <td>I encourage you to use my kitchen, cooking and...</td>\n",
              "      <td>https://a2.muscache.com/im/pictures/6ae8335d-9...</td>\n",
              "      <td>https://a2.muscache.com/im/pictures/6ae8335d-9...</td>\n",
              "      <td>https://a2.muscache.com/im/pictures/6ae8335d-9...</td>\n",
              "      <td>https://a2.muscache.com/im/pictures/6ae8335d-9...</td>\n",
              "      <td>16701</td>\n",
              "      <td>https://www.airbnb.com/users/show/16701</td>\n",
              "      <td>Phil</td>\n",
              "      <td>2009-05-11</td>\n",
              "      <td>Boston, Massachusetts, United States</td>\n",
              "      <td>I am a middle-aged, single male with a wide ra...</td>\n",
              "      <td>within a few hours</td>\n",
              "      <td>100%</td>\n",
              "      <td>88%</td>\n",
              "      <td>t</td>\n",
              "      <td>https://a2.muscache.com/im/users/16701/profile...</td>\n",
              "      <td>https://a2.muscache.com/im/users/16701/profile...</td>\n",
              "      <td>Roslindale</td>\n",
              "      <td>1</td>\n",
              "      <td>1</td>\n",
              "      <td>['email', 'phone', 'reviews', 'jumio']</td>\n",
              "      <td>t</td>\n",
              "      <td>t</td>\n",
              "      <td>Ardale St., Boston, MA 02131, United States</td>\n",
              "      <td>Roslindale</td>\n",
              "      <td>Roslindale</td>\n",
              "      <td>...</td>\n",
              "      <td>1.0</td>\n",
              "      <td>1.0</td>\n",
              "      <td>Real Bed</td>\n",
              "      <td>{TV,\"Cable TV\",\"Wireless Internet\",\"Air Condit...</td>\n",
              "      <td>NaN</td>\n",
              "      <td>$65.00</td>\n",
              "      <td>$395.00</td>\n",
              "      <td>$1,350.00</td>\n",
              "      <td>NaN</td>\n",
              "      <td>NaN</td>\n",
              "      <td>1</td>\n",
              "      <td>$20.00</td>\n",
              "      <td>3</td>\n",
              "      <td>45</td>\n",
              "      <td>5 days ago</td>\n",
              "      <td>NaN</td>\n",
              "      <td>19</td>\n",
              "      <td>46</td>\n",
              "      <td>61</td>\n",
              "      <td>319</td>\n",
              "      <td>2016-09-06</td>\n",
              "      <td>41</td>\n",
              "      <td>2009-07-19</td>\n",
              "      <td>2016-08-05</td>\n",
              "      <td>98.0</td>\n",
              "      <td>10.0</td>\n",
              "      <td>9.0</td>\n",
              "      <td>10.0</td>\n",
              "      <td>10.0</td>\n",
              "      <td>9.0</td>\n",
              "      <td>10.0</td>\n",
              "      <td>f</td>\n",
              "      <td>NaN</td>\n",
              "      <td>NaN</td>\n",
              "      <td>f</td>\n",
              "      <td>moderate</td>\n",
              "      <td>t</td>\n",
              "      <td>f</td>\n",
              "      <td>1</td>\n",
              "      <td>0.47</td>\n",
              "    </tr>\n",
              "    <tr>\n",
              "      <th>3</th>\n",
              "      <td>1436513</td>\n",
              "      <td>https://www.airbnb.com/rooms/1436513</td>\n",
              "      <td>20160906204935</td>\n",
              "      <td>2016-09-07</td>\n",
              "      <td>Spacious Sunny Bedroom Suite in Historic Home</td>\n",
              "      <td>Come experience the comforts of home away from...</td>\n",
              "      <td>Most places you find in Boston are small howev...</td>\n",
              "      <td>Come experience the comforts of home away from...</td>\n",
              "      <td>none</td>\n",
              "      <td>Roslindale is a lovely little neighborhood loc...</td>\n",
              "      <td>Please be mindful of the property as it is old...</td>\n",
              "      <td>There are buses that stop right in front of th...</td>\n",
              "      <td>The basement has a washer dryer and gym area. ...</td>\n",
              "      <td>We do live in the house therefore might be som...</td>\n",
              "      <td>- The bathroom and house are shared so please ...</td>\n",
              "      <td>https://a2.muscache.com/im/pictures/39764190-1...</td>\n",
              "      <td>https://a2.muscache.com/im/pictures/39764190-1...</td>\n",
              "      <td>https://a2.muscache.com/im/pictures/39764190-1...</td>\n",
              "      <td>https://a2.muscache.com/im/pictures/39764190-1...</td>\n",
              "      <td>6031442</td>\n",
              "      <td>https://www.airbnb.com/users/show/6031442</td>\n",
              "      <td>Meghna</td>\n",
              "      <td>2013-04-21</td>\n",
              "      <td>Boston, Massachusetts, United States</td>\n",
              "      <td>My husband and I live on the property.  He’s a...</td>\n",
              "      <td>within a few hours</td>\n",
              "      <td>100%</td>\n",
              "      <td>50%</td>\n",
              "      <td>f</td>\n",
              "      <td>https://a2.muscache.com/im/pictures/5d430cde-7...</td>\n",
              "      <td>https://a2.muscache.com/im/pictures/5d430cde-7...</td>\n",
              "      <td>NaN</td>\n",
              "      <td>1</td>\n",
              "      <td>1</td>\n",
              "      <td>['email', 'phone', 'reviews']</td>\n",
              "      <td>t</td>\n",
              "      <td>f</td>\n",
              "      <td>Boston, MA, United States</td>\n",
              "      <td>NaN</td>\n",
              "      <td>Roslindale</td>\n",
              "      <td>...</td>\n",
              "      <td>1.0</td>\n",
              "      <td>2.0</td>\n",
              "      <td>Real Bed</td>\n",
              "      <td>{TV,Internet,\"Wireless Internet\",\"Air Conditio...</td>\n",
              "      <td>NaN</td>\n",
              "      <td>$75.00</td>\n",
              "      <td>NaN</td>\n",
              "      <td>NaN</td>\n",
              "      <td>$100.00</td>\n",
              "      <td>$50.00</td>\n",
              "      <td>2</td>\n",
              "      <td>$25.00</td>\n",
              "      <td>1</td>\n",
              "      <td>1125</td>\n",
              "      <td>a week ago</td>\n",
              "      <td>NaN</td>\n",
              "      <td>6</td>\n",
              "      <td>16</td>\n",
              "      <td>26</td>\n",
              "      <td>98</td>\n",
              "      <td>2016-09-06</td>\n",
              "      <td>1</td>\n",
              "      <td>2016-08-28</td>\n",
              "      <td>2016-08-28</td>\n",
              "      <td>100.0</td>\n",
              "      <td>10.0</td>\n",
              "      <td>10.0</td>\n",
              "      <td>10.0</td>\n",
              "      <td>10.0</td>\n",
              "      <td>10.0</td>\n",
              "      <td>10.0</td>\n",
              "      <td>f</td>\n",
              "      <td>NaN</td>\n",
              "      <td>NaN</td>\n",
              "      <td>f</td>\n",
              "      <td>moderate</td>\n",
              "      <td>f</td>\n",
              "      <td>f</td>\n",
              "      <td>1</td>\n",
              "      <td>1.00</td>\n",
              "    </tr>\n",
              "    <tr>\n",
              "      <th>4</th>\n",
              "      <td>7651065</td>\n",
              "      <td>https://www.airbnb.com/rooms/7651065</td>\n",
              "      <td>20160906204935</td>\n",
              "      <td>2016-09-07</td>\n",
              "      <td>Come Home to Boston</td>\n",
              "      <td>My comfy, clean and relaxing home is one block...</td>\n",
              "      <td>Clean, attractive, private room, one block fro...</td>\n",
              "      <td>My comfy, clean and relaxing home is one block...</td>\n",
              "      <td>none</td>\n",
              "      <td>I love the proximity to downtown, the neighbor...</td>\n",
              "      <td>I have one roommate who lives on the lower lev...</td>\n",
              "      <td>From Logan Airport  and South Station you have...</td>\n",
              "      <td>You will have access to the front and side por...</td>\n",
              "      <td>I love my city and really enjoy sharing it wit...</td>\n",
              "      <td>Please no smoking in the house, porch or on th...</td>\n",
              "      <td>https://a1.muscache.com/im/pictures/97154760/8...</td>\n",
              "      <td>https://a1.muscache.com/im/pictures/97154760/8...</td>\n",
              "      <td>https://a1.muscache.com/im/pictures/97154760/8...</td>\n",
              "      <td>https://a1.muscache.com/im/pictures/97154760/8...</td>\n",
              "      <td>15396970</td>\n",
              "      <td>https://www.airbnb.com/users/show/15396970</td>\n",
              "      <td>Linda</td>\n",
              "      <td>2014-05-11</td>\n",
              "      <td>Boston, Massachusetts, United States</td>\n",
              "      <td>I work full time for a public school district....</td>\n",
              "      <td>within an hour</td>\n",
              "      <td>100%</td>\n",
              "      <td>100%</td>\n",
              "      <td>t</td>\n",
              "      <td>https://a0.muscache.com/im/users/15396970/prof...</td>\n",
              "      <td>https://a0.muscache.com/im/users/15396970/prof...</td>\n",
              "      <td>Roslindale</td>\n",
              "      <td>1</td>\n",
              "      <td>1</td>\n",
              "      <td>['email', 'phone', 'reviews', 'kba']</td>\n",
              "      <td>t</td>\n",
              "      <td>t</td>\n",
              "      <td>Durnell Avenue, Boston, MA 02131, United States</td>\n",
              "      <td>Roslindale</td>\n",
              "      <td>Roslindale</td>\n",
              "      <td>...</td>\n",
              "      <td>1.0</td>\n",
              "      <td>2.0</td>\n",
              "      <td>Real Bed</td>\n",
              "      <td>{Internet,\"Wireless Internet\",\"Air Conditionin...</td>\n",
              "      <td>NaN</td>\n",
              "      <td>$79.00</td>\n",
              "      <td>NaN</td>\n",
              "      <td>NaN</td>\n",
              "      <td>NaN</td>\n",
              "      <td>$15.00</td>\n",
              "      <td>1</td>\n",
              "      <td>$0.00</td>\n",
              "      <td>2</td>\n",
              "      <td>31</td>\n",
              "      <td>2 weeks ago</td>\n",
              "      <td>NaN</td>\n",
              "      <td>13</td>\n",
              "      <td>34</td>\n",
              "      <td>59</td>\n",
              "      <td>334</td>\n",
              "      <td>2016-09-06</td>\n",
              "      <td>29</td>\n",
              "      <td>2015-08-18</td>\n",
              "      <td>2016-09-01</td>\n",
              "      <td>99.0</td>\n",
              "      <td>10.0</td>\n",
              "      <td>10.0</td>\n",
              "      <td>10.0</td>\n",
              "      <td>10.0</td>\n",
              "      <td>9.0</td>\n",
              "      <td>10.0</td>\n",
              "      <td>f</td>\n",
              "      <td>NaN</td>\n",
              "      <td>NaN</td>\n",
              "      <td>f</td>\n",
              "      <td>flexible</td>\n",
              "      <td>f</td>\n",
              "      <td>f</td>\n",
              "      <td>1</td>\n",
              "      <td>2.25</td>\n",
              "    </tr>\n",
              "  </tbody>\n",
              "</table>\n",
              "<p>5 rows × 95 columns</p>\n",
              "</div>"
            ],
            "text/plain": [
              "         id  ... reviews_per_month\n",
              "0  12147973  ...               NaN\n",
              "1   3075044  ...              1.30\n",
              "2      6976  ...              0.47\n",
              "3   1436513  ...              1.00\n",
              "4   7651065  ...              2.25\n",
              "\n",
              "[5 rows x 95 columns]"
            ]
          },
          "metadata": {
            "tags": []
          },
          "execution_count": 5
        }
      ]
    },
    {
      "cell_type": "markdown",
      "metadata": {
        "id": "I9DbDICx39Ta",
        "colab_type": "text"
      },
      "source": [
        "exploring the data"
      ]
    },
    {
      "cell_type": "markdown",
      "metadata": {
        "id": "k1rwhatk_W7M",
        "colab_type": "text"
      },
      "source": [
        "No of rows and columns in the dataset"
      ]
    },
    {
      "cell_type": "code",
      "metadata": {
        "id": "Wgs-ihEGCFyM",
        "colab_type": "code",
        "outputId": "ef129309-1acb-42dc-e80b-4e31d3f66774",
        "colab": {
          "base_uri": "https://localhost:8080/",
          "height": 54
        }
      },
      "source": [
        "#rows and columns in calendar\n",
        "rows_calendar=len(cd.axes[0])\n",
        "col_calendar=len(cd.axes[1])\n",
        "print(\"Number of Rows: \"+str(rows_calendar))\n",
        "print(\"Number of Columns: \"+str(col_calendar))"
      ],
      "execution_count": 6,
      "outputs": [
        {
          "output_type": "stream",
          "text": [
            "Number of Rows: 1308890\n",
            "Number of Columns: 4\n"
          ],
          "name": "stdout"
        }
      ]
    },
    {
      "cell_type": "code",
      "metadata": {
        "id": "Zo3gLvfMCIj4",
        "colab_type": "code",
        "outputId": "d2d12716-5564-4c82-f750-651ca5542c9c",
        "colab": {
          "base_uri": "https://localhost:8080/",
          "height": 54
        }
      },
      "source": [
        "#@rows and columns in listings\n",
        "rows_listing = len(li.axes[0])\n",
        "col_listings=len(li.axes[1])\n",
        "print(\"Number of Rows: \"+str(rows_listing))\n",
        "print(\"Number of Columns: \"+str(col_listings))\n"
      ],
      "execution_count": 4,
      "outputs": [
        {
          "output_type": "stream",
          "text": [
            "Number of Rows: 3585\n",
            "Number of Columns: 95\n"
          ],
          "name": "stdout"
        }
      ]
    },
    {
      "cell_type": "code",
      "metadata": {
        "id": "nGueH9jG2wfM",
        "colab_type": "code",
        "outputId": "ebb46238-f4b7-47aa-fe65-5040d1995c68",
        "colab": {
          "base_uri": "https://localhost:8080/",
          "height": 54
        }
      },
      "source": [
        "#rows and columns in reviews\n",
        "rows_rev = len(rev.axes[0])\n",
        "col_rev=len(rev.axes[1])\n",
        "print(\"Number of Rows: \"+str(rows_rev))\n",
        "print(\"Number of Columns: \"+str(col_rev))"
      ],
      "execution_count": 5,
      "outputs": [
        {
          "output_type": "stream",
          "text": [
            "Number of Rows: 68275\n",
            "Number of Columns: 6\n"
          ],
          "name": "stdout"
        }
      ]
    },
    {
      "cell_type": "markdown",
      "metadata": {
        "id": "nlNQDH8C-xLK",
        "colab_type": "text"
      },
      "source": [
        "**ANALYSIS WILL BE DONE ON LISTINGS DATA ONLY CALENDAR AND REVIEWS WILL NOT BE CONSIDERED**"
      ]
    },
    {
      "cell_type": "code",
      "metadata": {
        "id": "6tBqTrcd4ZrA",
        "colab_type": "code",
        "colab": {}
      },
      "source": [
        ""
      ],
      "execution_count": 0,
      "outputs": []
    },
    {
      "cell_type": "markdown",
      "metadata": {
        "id": "N5R9G4le7TzW",
        "colab_type": "text"
      },
      "source": [
        ""
      ]
    },
    {
      "cell_type": "markdown",
      "metadata": {
        "id": "iYNy9g487HXj",
        "colab_type": "text"
      },
      "source": [
        "# New Section"
      ]
    },
    {
      "cell_type": "code",
      "metadata": {
        "id": "7HSA6tR3ERQJ",
        "colab_type": "code",
        "colab": {}
      },
      "source": [
        ""
      ],
      "execution_count": 0,
      "outputs": []
    },
    {
      "cell_type": "code",
      "metadata": {
        "id": "sM3ATROZWFX5",
        "colab_type": "code",
        "colab": {}
      },
      "source": [
        ""
      ],
      "execution_count": 0,
      "outputs": []
    },
    {
      "cell_type": "code",
      "metadata": {
        "id": "dAHl9Ipd7P4f",
        "colab_type": "code",
        "outputId": "d6584a76-755c-47de-ef87-9edbf7d1ffbf",
        "colab": {
          "base_uri": "https://localhost:8080/",
          "height": 92
        }
      },
      "source": [
        "#columns with no null values\n",
        "no_nulls1 = set(cd.columns[cd.isnull().mean()==0])\n",
        "no_nulls2= set(li.columns[li.isnull().mean()==0])\n",
        "no_nulls3 = set(rev.columns[rev.isnull().mean()==0])\n",
        "print(no_nulls1)\n",
        "print(no_nulls2)\n",
        "print(no_nulls3)"
      ],
      "execution_count": 7,
      "outputs": [
        {
          "output_type": "stream",
          "text": [
            "{'available', 'date', 'listing_id'}\n",
            "{'extra_people', 'state', 'street', 'accommodates', 'guests_included', 'cancellation_policy', 'host_name', 'neighbourhood_cleansed', 'experiences_offered', 'description', 'host_listings_count', 'price', 'calendar_updated', 'maximum_nights', 'host_has_profile_pic', 'host_verifications', 'host_url', 'scrape_id', 'amenities', 'is_location_exact', 'name', 'minimum_nights', 'availability_30', 'number_of_reviews', 'smart_location', 'latitude', 'require_guest_profile_picture', 'calculated_host_listings_count', 'availability_365', 'host_identity_verified', 'require_guest_phone_verification', 'id', 'host_is_superhost', 'host_id', 'host_total_listings_count', 'requires_license', 'picture_url', 'availability_60', 'listing_url', 'availability_90', 'calendar_last_scraped', 'host_thumbnail_url', 'last_scraped', 'host_picture_url', 'room_type', 'host_since', 'longitude', 'country_code', 'instant_bookable', 'country', 'bed_type'}\n",
            "{'reviewer_name', 'date', 'id', 'listing_id', 'reviewer_id'}\n"
          ],
          "name": "stdout"
        }
      ]
    },
    {
      "cell_type": "markdown",
      "metadata": {
        "id": "HzzhLpTc4FeW",
        "colab_type": "text"
      },
      "source": [
        "removing cols with 75% missing values"
      ]
    },
    {
      "cell_type": "markdown",
      "metadata": {
        "id": "0LOuoyjpej_8",
        "colab_type": "text"
      },
      "source": [
        ""
      ]
    },
    {
      "cell_type": "markdown",
      "metadata": {
        "id": "54FkH5kQen5Y",
        "colab_type": "text"
      },
      "source": [
        "columns with 75% of their values missing"
      ]
    },
    {
      "cell_type": "code",
      "metadata": {
        "id": "qOlw4wSpXt7Y",
        "colab_type": "code",
        "outputId": "f44ade03-be26-4cc8-bf0a-c5317acf9d62",
        "colab": {
          "base_uri": "https://localhost:8080/",
          "height": 55
        }
      },
      "source": [
        "most_missing_cols_cal = set(cd.columns[cd.isnull().mean() > 0.75])\n",
        "most_missing_cols_lis = set(li.columns[li.isnull().mean()>0.75])\n",
        "most_missing_cols_rev= set(rev.columns[rev.isnull().mean() > 0.75])\n",
        "\n",
        "\n",
        "print(most_missing_cols_lis)\n"
      ],
      "execution_count": 8,
      "outputs": [
        {
          "output_type": "stream",
          "text": [
            "{'has_availability', 'license', 'monthly_price', 'jurisdiction_names', 'weekly_price', 'square_feet', 'neighbourhood_group_cleansed'}\n"
          ],
          "name": "stdout"
        }
      ]
    },
    {
      "cell_type": "markdown",
      "metadata": {
        "id": "bWkxsQE99RXT",
        "colab_type": "text"
      },
      "source": [
        "*italicized text*# New Section"
      ]
    },
    {
      "cell_type": "markdown",
      "metadata": {
        "id": "ayYLpbo6SCAx",
        "colab_type": "text"
      },
      "source": [
        "filtering the data"
      ]
    },
    {
      "cell_type": "markdown",
      "metadata": {
        "id": "Y1BxrcCzoCZd",
        "colab_type": "text"
      },
      "source": [
        "removing duplicate cities"
      ]
    },
    {
      "cell_type": "code",
      "metadata": {
        "id": "DBZVYb_1pew-",
        "colab_type": "code",
        "outputId": "1209a485-c22b-4d3b-b2e5-925cac60a9a8",
        "colab": {
          "base_uri": "https://localhost:8080/",
          "height": 220
        }
      },
      "source": [
        "li.city.unique()"
      ],
      "execution_count": 9,
      "outputs": [
        {
          "output_type": "execute_result",
          "data": {
            "text/plain": [
              "array(['Boston', 'Roslindale', 'Roslindale, Boston', 'Jamaica Plain',\n",
              "       'Brookline', 'Jamaica Plain, Boston', 'Jamaica Plain (Boston)',\n",
              "       'Roxbury Crossing', 'Jamaica Plain ', 'Jamaica Plain, MA',\n",
              "       'Boston (Jamaica Plain)', 'Jamaica plain ', 'ROXBURY CROSSING',\n",
              "       'Mission Hill, Boston', 'boston', '波士顿',\n",
              "       'Boston, Massachusetts, US', 'South End, Boston', 'Cambridge',\n",
              "       'East Boston', 'east Boston ', 'Charlestown',\n",
              "       'Boston (Charlestown)', 'Somerville', 'Watertown', 'Brighton',\n",
              "       'Brighton ', 'Boston ', nan, 'West Roxbury', 'Newton', 'Hyde Park',\n",
              "       'Mattapan', 'Milton', 'Dorchester', 'dorchester, boston ',\n",
              "       'South Boston', 'Allston', 'ALLSTON'], dtype=object)"
            ]
          },
          "metadata": {
            "tags": []
          },
          "execution_count": 9
        }
      ]
    },
    {
      "cell_type": "markdown",
      "metadata": {
        "id": "uUTW6RHg3ALX",
        "colab_type": "text"
      },
      "source": [
        "removing duplicate cities"
      ]
    },
    {
      "cell_type": "code",
      "metadata": {
        "id": "9l-bWXRU2yhY",
        "colab_type": "code",
        "colab": {}
      },
      "source": [
        "li['city_cleansed'] = li.city.copy()"
      ],
      "execution_count": 0,
      "outputs": []
    },
    {
      "cell_type": "markdown",
      "metadata": {
        "id": "IN_lZSOtpfbe",
        "colab_type": "text"
      },
      "source": [
        ""
      ]
    },
    {
      "cell_type": "code",
      "metadata": {
        "id": "gh_iFhXUqG7Q",
        "colab_type": "code",
        "colab": {}
      },
      "source": [
        "\n",
        "li['city_cleansed'] = li.city_cleansed.replace('ALLSTON', 'Allston')\n",
        "li['city_cleansed'] = li.city_cleansed.replace('Roslindale, Boston', 'Roslindale')\n",
        "li['city_cleansed'] = li.city_cleansed.replace('dorchester, boston ', 'Dorchester')\n",
        "li['city_cleansed'] = li.city_cleansed.replace(['Boston ', 'boston'], 'Boston')\n",
        "li['city_cleansed'] = li.city_cleansed.replace('east Boston ', 'East Boston')\n",
        "li['city_cleansed'] = li.city_cleansed.replace('Boston (Charlestown)', 'Charlestown')\n",
        "li['city_cleansed'] = li.city_cleansed.replace('ROXBURY CROSSING', 'Roxbury Crossing')\n",
        "li['city_cleansed'] = li.city_cleansed.replace('Brighton ', 'Brighton')\n",
        "li['city_cleansed'] = li.city_cleansed.replace(\n",
        "    ['Jamaica Plain, Boston', 'Jamaica Plain (Boston)',\n",
        "     'Jamaica Plain ', 'Jamaica plain ', 'Boston (Jamaica Plain)',], 'Jamaica Plain')"
      ],
      "execution_count": 0,
      "outputs": []
    },
    {
      "cell_type": "markdown",
      "metadata": {
        "id": "imcs4g-pzUAF",
        "colab_type": "text"
      },
      "source": [
        ""
      ]
    },
    {
      "cell_type": "code",
      "metadata": {
        "id": "ShfLiziKlAf5",
        "colab_type": "code",
        "colab": {}
      },
      "source": [
        ""
      ],
      "execution_count": 0,
      "outputs": []
    },
    {
      "cell_type": "code",
      "metadata": {
        "id": "gKbjmeJIWHdt",
        "colab_type": "code",
        "outputId": "d21cabf9-867f-4d79-d03e-c6370c8f3bdf",
        "colab": {
          "base_uri": "https://localhost:8080/",
          "height": 146
        }
      },
      "source": [
        "li.city_cleansed.unique()"
      ],
      "execution_count": 12,
      "outputs": [
        {
          "output_type": "execute_result",
          "data": {
            "text/plain": [
              "array(['Boston', 'Roslindale', 'Jamaica Plain', 'Brookline',\n",
              "       'Roxbury Crossing', 'Jamaica Plain, MA', 'Mission Hill, Boston',\n",
              "       '波士顿', 'Boston, Massachusetts, US', 'South End, Boston',\n",
              "       'Cambridge', 'East Boston', 'Charlestown', 'Somerville',\n",
              "       'Watertown', 'Brighton', nan, 'West Roxbury', 'Newton',\n",
              "       'Hyde Park', 'Mattapan', 'Milton', 'Dorchester', 'South Boston',\n",
              "       'Allston'], dtype=object)"
            ]
          },
          "metadata": {
            "tags": []
          },
          "execution_count": 12
        }
      ]
    },
    {
      "cell_type": "markdown",
      "metadata": {
        "id": "AEBhdpWaoD_O",
        "colab_type": "text"
      },
      "source": [
        ""
      ]
    },
    {
      "cell_type": "code",
      "metadata": {
        "id": "sKexeLatXnHn",
        "colab_type": "code",
        "colab": {}
      },
      "source": [
        "li['price'] = li['price'].replace({'\\$': '', ',': ''}, regex=True)\n",
        "li['price'] =li['price'].astype(float)"
      ],
      "execution_count": 0,
      "outputs": []
    },
    {
      "cell_type": "code",
      "metadata": {
        "id": "5i9fBhS_oMp7",
        "colab_type": "code",
        "colab": {}
      },
      "source": [
        "features_df = li.copy()\n"
      ],
      "execution_count": 0,
      "outputs": []
    },
    {
      "cell_type": "markdown",
      "metadata": {
        "id": "k38nLD3969f2",
        "colab_type": "text"
      },
      "source": [
        "removing dollar sign from price in li and features"
      ]
    },
    {
      "cell_type": "code",
      "metadata": {
        "id": "Gp1qfoKc4nDE",
        "colab_type": "code",
        "outputId": "4c62e08f-4b04-4a5a-fb61-6bdb9cade748",
        "colab": {
          "base_uri": "https://localhost:8080/",
          "height": 210
        }
      },
      "source": [
        " \n"
      ],
      "execution_count": 30,
      "outputs": [
        {
          "output_type": "error",
          "ename": "NameError",
          "evalue": "ignored",
          "traceback": [
            "\u001b[0;31m---------------------------------------------------------------------------\u001b[0m",
            "\u001b[0;31mNameError\u001b[0m                                 Traceback (most recent call last)",
            "\u001b[0;32m<ipython-input-30-55b5fb153a5f>\u001b[0m in \u001b[0;36m<module>\u001b[0;34m()\u001b[0m\n\u001b[1;32m      1\u001b[0m \u001b[0;34m\u001b[0m\u001b[0m\n\u001b[1;32m      2\u001b[0m \u001b[0mfeatures_df\u001b[0m\u001b[0;34m[\u001b[0m\u001b[0;34m'price'\u001b[0m\u001b[0;34m]\u001b[0m \u001b[0;34m=\u001b[0m \u001b[0mfeatures_df\u001b[0m\u001b[0;34m[\u001b[0m\u001b[0;34m'price'\u001b[0m\u001b[0;34m]\u001b[0m\u001b[0;34m.\u001b[0m\u001b[0mreplace\u001b[0m\u001b[0;34m(\u001b[0m\u001b[0;34m{\u001b[0m\u001b[0;34m'\\$'\u001b[0m\u001b[0;34m:\u001b[0m \u001b[0;34m''\u001b[0m\u001b[0;34m,\u001b[0m \u001b[0;34m','\u001b[0m\u001b[0;34m:\u001b[0m \u001b[0;34m''\u001b[0m\u001b[0;34m}\u001b[0m\u001b[0;34m,\u001b[0m \u001b[0mregex\u001b[0m\u001b[0;34m=\u001b[0m\u001b[0;32mTrue\u001b[0m\u001b[0;34m)\u001b[0m\u001b[0;34m\u001b[0m\u001b[0;34m\u001b[0m\u001b[0m\n\u001b[0;32m----> 3\u001b[0;31m \u001b[0mfeatures_df\u001b[0m\u001b[0;34m[\u001b[0m\u001b[0;34m'price'\u001b[0m\u001b[0;34m]\u001b[0m \u001b[0;34m=\u001b[0m \u001b[0mfeatures_df\u001b[0m\u001b[0;34m[\u001b[0m\u001b[0;34m'price'\u001b[0m\u001b[0;34m]\u001b[0m\u001b[0;34m.\u001b[0m\u001b[0mastype\u001b[0m\u001b[0;34m(\u001b[0m\u001b[0mfloat64\u001b[0m\u001b[0;34m)\u001b[0m\u001b[0;34m\u001b[0m\u001b[0;34m\u001b[0m\u001b[0m\n\u001b[0m",
            "\u001b[0;31mNameError\u001b[0m: name 'float64' is not defined"
          ]
        }
      ]
    },
    {
      "cell_type": "code",
      "metadata": {
        "id": "2iUeM61Won3f",
        "colab_type": "code",
        "outputId": "29262f99-1161-4d52-8b8b-e3ec939dd6c0",
        "colab": {
          "base_uri": "https://localhost:8080/",
          "height": 294
        }
      },
      "source": [
        "accomodates_count = features_df.accommodates.value_counts()\n",
        "print(accomodates_count)"
      ],
      "execution_count": 18,
      "outputs": [
        {
          "output_type": "stream",
          "text": [
            "2     1483\n",
            "4      650\n",
            "1      439\n",
            "3      428\n",
            "5      245\n",
            "6      203\n",
            "8       55\n",
            "7       39\n",
            "10      19\n",
            "9       10\n",
            "12       5\n",
            "11       4\n",
            "14       3\n",
            "16       2\n",
            "Name: accommodates, dtype: int64\n"
          ],
          "name": "stdout"
        }
      ]
    },
    {
      "cell_type": "code",
      "metadata": {
        "id": "VToC-sNK8DRq",
        "colab_type": "code",
        "outputId": "7c8aa88f-950a-4dd0-da38-9f94af5ae8c8",
        "colab": {
          "base_uri": "https://localhost:8080/",
          "height": 257
        }
      },
      "source": [
        "li.groupby(['accommodates','price']).price.mean()"
      ],
      "execution_count": 19,
      "outputs": [
        {
          "output_type": "execute_result",
          "data": {
            "text/plain": [
              "accommodates  price\n",
              "1             20.0      20.0\n",
              "              22.0      22.0\n",
              "              25.0      25.0\n",
              "              27.0      27.0\n",
              "              28.0      28.0\n",
              "                       ...  \n",
              "14            299.0    299.0\n",
              "              395.0    395.0\n",
              "              536.0    536.0\n",
              "16            125.0    125.0\n",
              "              200.0    200.0\n",
              "Name: price, Length: 880, dtype: float64"
            ]
          },
          "metadata": {
            "tags": []
          },
          "execution_count": 19
        }
      ]
    },
    {
      "cell_type": "code",
      "metadata": {
        "id": "VgU49WQOguPn",
        "colab_type": "code",
        "colab": {
          "base_uri": "https://localhost:8080/",
          "height": 917
        },
        "outputId": "789716f8-aadb-4c46-e950-5e6803687802"
      },
      "source": [
        "accomodates_count.plot.pie(figsize=(16, 16), fontsize = 30, autopct = '%.2f', title = 'distribution based on number of accomodates');\n"
      ],
      "execution_count": 20,
      "outputs": [
        {
          "output_type": "display_data",
          "data": {
            "image/png": "[encoded data removed]",
            "text/plain": [
              "<Figure size 1152x1152 with 1 Axes>"
            ]
          },
          "metadata": {
            "tags": []
          }
        }
      ]
    },
    {
      "cell_type": "code",
      "metadata": {
        "id": "jg4yTcaL72mY",
        "colab_type": "code",
        "outputId": "697696cc-ee2f-4b15-b1c6-bbf24839ab87",
        "colab": {
          "base_uri": "https://localhost:8080/",
          "height": 91
        }
      },
      "source": [
        "room_type_count = features_df.room_type.value_counts()\n",
        "print(room_type_count)"
      ],
      "execution_count": 21,
      "outputs": [
        {
          "output_type": "stream",
          "text": [
            "Entire home/apt    2127\n",
            "Private room       1378\n",
            "Shared room          80\n",
            "Name: room_type, dtype: int64\n"
          ],
          "name": "stdout"
        }
      ]
    },
    {
      "cell_type": "code",
      "metadata": {
        "id": "zurEdYIJa5La",
        "colab_type": "code",
        "outputId": "caa9af68-197f-454e-92f2-90c649c97f5b",
        "colab": {
          "base_uri": "https://localhost:8080/",
          "height": 589
        }
      },
      "source": [
        "prices_data = li.groupby(['property_type','room_type']).price.mean()\n",
        "prices_data"
      ],
      "execution_count": 25,
      "outputs": [
        {
          "output_type": "execute_result",
          "data": {
            "text/plain": [
              "property_type    room_type      \n",
              "Apartment        Entire home/apt    222.479025\n",
              "                 Private room        98.726463\n",
              "                 Shared room         84.596774\n",
              "Bed & Breakfast  Entire home/apt    142.500000\n",
              "                 Private room       130.921053\n",
              "                 Shared room         44.000000\n",
              "Boat             Entire home/apt    265.200000\n",
              "                 Private room       287.000000\n",
              "Camper/RV        Entire home/apt     60.000000\n",
              "Condominium      Entire home/apt    234.640000\n",
              "                 Private room       109.000000\n",
              "                 Shared room         70.000000\n",
              "Dorm             Private room        62.500000\n",
              "Entire Floor     Entire home/apt    154.000000\n",
              "                 Private room        90.000000\n",
              "Guesthouse       Entire home/apt    289.000000\n",
              "House            Entire home/apt    276.337838\n",
              "                 Private room        80.246914\n",
              "                 Shared room         62.333333\n",
              "Loft             Entire home/apt    217.068966\n",
              "                 Private room        96.250000\n",
              "                 Shared room         83.000000\n",
              "Other            Entire home/apt    324.500000\n",
              "                 Private room       181.363636\n",
              "                 Shared room        316.250000\n",
              "Townhouse        Entire home/apt    268.357143\n",
              "                 Private room       107.275000\n",
              "Villa            Entire home/apt    263.500000\n",
              "                 Private room       152.500000\n",
              "Name: price, dtype: float64"
            ]
          },
          "metadata": {
            "tags": []
          },
          "execution_count": 25
        }
      ]
    },
    {
      "cell_type": "code",
      "metadata": {
        "id": "LpGAvEsgbPJn",
        "colab_type": "code",
        "outputId": "3293ab70-e7a6-45aa-f4da-d6079e513aef",
        "colab": {
          "base_uri": "https://localhost:8080/",
          "height": 715
        }
      },
      "source": [
        "plt.figure(figsize=(12,12));\n",
        "sns.heatmap(li.groupby(['property_type','room_type']).price.mean().unstack(),annot=True, fmt=\".2f\");"
      ],
      "execution_count": 27,
      "outputs": [
        {
          "output_type": "display_data",
          "data": {
            "image/png": "[encoded data removed]",
            "text/plain": [
              "<Figure size 864x864 with 2 Axes>"
            ]
          },
          "metadata": {
            "tags": [],
            "needs_background": "light"
          }
        }
      ]
    },
    {
      "cell_type": "markdown",
      "metadata": {
        "id": "Knk_lwOYlhzZ",
        "colab_type": "text"
      },
      "source": [
        "simple bed and breakfast shared room being the cheapest\n",
        "where as \n",
        "entire home/apt and (other category) being the costliest"
      ]
    },
    {
      "cell_type": "code",
      "metadata": {
        "id": "G9tXIcuE0_9r",
        "colab_type": "code",
        "outputId": "2bb257f3-f203-4a1e-a155-c76683272c35",
        "colab": {
          "base_uri": "https://localhost:8080/",
          "height": 336
        }
      },
      "source": [
        "room_type_count.plot(kind='bar', color='teal');"
      ],
      "execution_count": 0,
      "outputs": [
        {
          "output_type": "display_data",
          "data": {
            "image/png": "[encoded data removed]",
            "text/plain": [
              "<Figure size 432x288 with 1 Axes>"
            ]
          },
          "metadata": {
            "tags": [],
            "needs_background": "light"
          }
        }
      ]
    },
    {
      "cell_type": "code",
      "metadata": {
        "id": "wIBpV-FxbO0o",
        "colab_type": "code",
        "colab": {
          "base_uri": "https://localhost:8080/",
          "height": 482
        },
        "outputId": "0409db99-f40d-4a5f-e626-dd8c7dc0fa22"
      },
      "source": [
        "room_type_count.plot.pie(figsize=(8, 8), fontsize = 20, autopct = '%.2f', title = 'Room Type Distribution');\n"
      ],
      "execution_count": 28,
      "outputs": [
        {
          "output_type": "display_data",
          "data": {
            "image/png": "[encoded data removed]",
            "text/plain": [
              "<Figure size 576x576 with 1 Axes>"
            ]
          },
          "metadata": {
            "tags": []
          }
        }
      ]
    },
    {
      "cell_type": "markdown",
      "metadata": {
        "id": "fnS052wg4jDZ",
        "colab_type": "text"
      },
      "source": [
        "NEXT : Average price per city"
      ]
    },
    {
      "cell_type": "code",
      "metadata": {
        "id": "2CXv5k1GdPQb",
        "colab_type": "code",
        "outputId": "a59dda11-c664-415a-c1fc-e1450dccf5b2",
        "colab": {
          "base_uri": "https://localhost:8080/",
          "height": 497
        }
      },
      "source": [
        "prices_city = features_df.groupby(['city_cleansed']).price.mean()\n",
        "prices_city"
      ],
      "execution_count": 33,
      "outputs": [
        {
          "output_type": "execute_result",
          "data": {
            "text/plain": [
              "city_cleansed\n",
              "Allston                       86.357143\n",
              "Boston                       176.718593\n",
              "Boston, Massachusetts, US     50.000000\n",
              "Brighton                     107.250000\n",
              "Brookline                    135.888889\n",
              "Cambridge                    199.375000\n",
              "Charlestown                  258.625000\n",
              "Dorchester                    74.000000\n",
              "East Boston                  121.000000\n",
              "Hyde Park                     77.500000\n",
              "Jamaica Plain                157.200000\n",
              "Jamaica Plain, MA            120.000000\n",
              "Mattapan                      85.000000\n",
              "Milton                        50.000000\n",
              "Mission Hill, Boston          85.000000\n",
              "Newton                        90.000000\n",
              "Roslindale                    99.714286\n",
              "Roxbury Crossing              94.392857\n",
              "Somerville                    91.947368\n",
              "South Boston                 132.000000\n",
              "South End, Boston            450.000000\n",
              "Watertown                     60.000000\n",
              "West Roxbury                  85.600000\n",
              "波士顿                          100.000000\n",
              "Name: price, dtype: float64"
            ]
          },
          "metadata": {
            "tags": []
          },
          "execution_count": 33
        }
      ]
    },
    {
      "cell_type": "code",
      "metadata": {
        "id": "fW2bs5Ivdcx9",
        "colab_type": "code",
        "outputId": "be8d292d-22d1-46ae-bcf3-67a8e45ea9cc",
        "colab": {
          "base_uri": "https://localhost:8080/",
          "height": 678
        }
      },
      "source": [
        "\n",
        "plt.figure(figsize=(15,8));\n",
        "prices_data.plot(kind='bar', color='teal');\n",
        "plt.xlabel('Cities')\n",
        "plt.ylabel('Average Price')\n",
        "plt.title('City vs Average Price Chart');"
      ],
      "execution_count": 34,
      "outputs": [
        {
          "output_type": "display_data",
          "data": {
            "image/png": "[encoded data removed]",
            "text/plain": [
              "<Figure size 1080x576 with 1 Axes>"
            ]
          },
          "metadata": {
            "tags": [],
            "needs_background": "light"
          }
        }
      ]
    },
    {
      "cell_type": "code",
      "metadata": {
        "id": "lpuqpXHU8aU3",
        "colab_type": "code",
        "outputId": "d71c672f-fece-4977-e284-f0e84b299a86",
        "colab": {
          "base_uri": "https://localhost:8080/",
          "height": 276
        }
      },
      "source": [
        "property_type_count = features_df.property_type.value_counts()\n",
        "print(property_type_count)"
      ],
      "execution_count": 0,
      "outputs": [
        {
          "output_type": "stream",
          "text": [
            "Apartment          2612\n",
            "House               562\n",
            "Condominium         231\n",
            "Townhouse            54\n",
            "Bed & Breakfast      41\n",
            "Loft                 39\n",
            "Other                17\n",
            "Boat                 12\n",
            "Villa                 6\n",
            "Entire Floor          4\n",
            "Dorm                  2\n",
            "Guesthouse            1\n",
            "Camper/RV             1\n",
            "Name: property_type, dtype: int64\n"
          ],
          "name": "stdout"
        }
      ]
    },
    {
      "cell_type": "code",
      "metadata": {
        "id": "3JADaENs1Uq8",
        "colab_type": "code",
        "outputId": "f19f571d-572c-472c-e961-2f130d4cf9ae",
        "colab": {
          "base_uri": "https://localhost:8080/",
          "height": 336
        }
      },
      "source": [
        "property_type_count.plot(kind='bar', color='teal');"
      ],
      "execution_count": 0,
      "outputs": [
        {
          "output_type": "display_data",
          "data": {
            "image/png": "[encoded data removed]",
            "text/plain": [
              "<Figure size 432x288 with 1 Axes>"
            ]
          },
          "metadata": {
            "tags": [],
            "needs_background": "light"
          }
        }
      ]
    },
    {
      "cell_type": "markdown",
      "metadata": {
        "id": "KBE53_uzhcO-",
        "colab_type": "text"
      },
      "source": [
        "south end boston is the costliest \n",
        "where as boston is the cheapest"
      ]
    },
    {
      "cell_type": "markdown",
      "metadata": {
        "colab_type": "text",
        "id": "14E-Hw8JIdkq"
      },
      "source": [
        "property type count"
      ]
    },
    {
      "cell_type": "markdown",
      "metadata": {
        "id": "Do62lER8ELx8",
        "colab_type": "text"
      },
      "source": [
        "COMPARING THE TYPE OF HOUSE AND ROOM WITH PRICES"
      ]
    },
    {
      "cell_type": "code",
      "metadata": {
        "id": "UXTFonuY_O4q",
        "colab_type": "code",
        "outputId": "6ab99d9f-ade8-4dd3-8003-6dd9621f86ee",
        "colab": {
          "base_uri": "https://localhost:8080/",
          "height": 589
        }
      },
      "source": [
        "prices_data = features_df.groupby(['property_type','room_type']).price.mean()\n",
        "print(prices_data)"
      ],
      "execution_count": 0,
      "outputs": [
        {
          "output_type": "stream",
          "text": [
            "property_type    room_type      \n",
            "Apartment        Entire home/apt    222.479025\n",
            "                 Private room        98.726463\n",
            "                 Shared room         84.596774\n",
            "Bed & Breakfast  Entire home/apt    142.500000\n",
            "                 Private room       130.921053\n",
            "                 Shared room         44.000000\n",
            "Boat             Entire home/apt    265.200000\n",
            "                 Private room       287.000000\n",
            "Camper/RV        Entire home/apt     60.000000\n",
            "Condominium      Entire home/apt    234.640000\n",
            "                 Private room       109.000000\n",
            "                 Shared room         70.000000\n",
            "Dorm             Private room        62.500000\n",
            "Entire Floor     Entire home/apt    154.000000\n",
            "                 Private room        90.000000\n",
            "Guesthouse       Entire home/apt    289.000000\n",
            "House            Entire home/apt    276.337838\n",
            "                 Private room        80.246914\n",
            "                 Shared room         62.333333\n",
            "Loft             Entire home/apt    217.068966\n",
            "                 Private room        96.250000\n",
            "                 Shared room         83.000000\n",
            "Other            Entire home/apt    324.500000\n",
            "                 Private room       181.363636\n",
            "                 Shared room        316.250000\n",
            "Townhouse        Entire home/apt    268.357143\n",
            "                 Private room       107.275000\n",
            "Villa            Entire home/apt    263.500000\n",
            "                 Private room       152.500000\n",
            "Name: price, dtype: float64\n"
          ],
          "name": "stdout"
        }
      ]
    },
    {
      "cell_type": "code",
      "metadata": {
        "id": "zBNtcVZP071K",
        "colab_type": "code",
        "colab": {}
      },
      "source": [
        "price_per_property_type = features_df.groupby('property_type').price.mean()"
      ],
      "execution_count": 0,
      "outputs": []
    },
    {
      "cell_type": "code",
      "metadata": {
        "colab_type": "code",
        "id": "m9PEA92uhob3",
        "outputId": "9854f910-d459-43c9-c520-1e863326b1c0",
        "colab": {
          "base_uri": "https://localhost:8080/",
          "height": 421
        }
      },
      "source": [
        "#@title Default title text\n",
        "plt.figure(figsize=(10,5));\n",
        "price_per_property_type.plot(kind='bar', color='teal');\n",
        "plt.xlabel('Property Types')\n",
        "plt.ylabel('Average Price')\n",
        "plt.title('Property vs Average Price Chart');"
      ],
      "execution_count": 0,
      "outputs": [
        {
          "output_type": "display_data",
          "data": {
            "image/png": "[encoded data removed]",
            "text/plain": [
              "<Figure size 720x360 with 1 Axes>"
            ]
          },
          "metadata": {
            "tags": [],
            "needs_background": "light"
          }
        }
      ]
    },
    {
      "cell_type": "code",
      "metadata": {
        "id": "BmWj-uSnnnzH",
        "colab_type": "code",
        "outputId": "4b193e15-6f47-4fda-b2bf-6e3f2272635c",
        "colab": {
          "base_uri": "https://localhost:8080/",
          "height": 91
        }
      },
      "source": [
        "sup_price = features_df.groupby(['host_is_superhost']).price.mean()\n",
        "pd.options.display.max_rows = 4000\n",
        "sup_price"
      ],
      "execution_count": 0,
      "outputs": [
        {
          "output_type": "execute_result",
          "data": {
            "text/plain": [
              "host_is_superhost\n",
              "f    173.604468\n",
              "t    176.434889\n",
              "Name: price, dtype: float64"
            ]
          },
          "metadata": {
            "tags": []
          },
          "execution_count": 41
        }
      ]
    },
    {
      "cell_type": "markdown",
      "metadata": {
        "id": "z88HtY8Poj0s",
        "colab_type": "text"
      },
      "source": [
        "superhosts are costlier than non-superhosts"
      ]
    },
    {
      "cell_type": "markdown",
      "metadata": {
        "id": "ZOOLHSENhqRt",
        "colab_type": "text"
      },
      "source": [
        "guesthouses are the costliest whereas rv and camper are the cheapest"
      ]
    },
    {
      "cell_type": "code",
      "metadata": {
        "id": "yJ_8LR5JHB8Q",
        "colab_type": "code",
        "colab": {}
      },
      "source": [
        "superhost_bath = features_df.groupby(['host_is_superhost','bedrooms']).price.mean()\n",
        "superhost_bed =  features_df.groupby(['host_is_superhost','bedrooms']).price.mean()"
      ],
      "execution_count": 0,
      "outputs": []
    },
    {
      "cell_type": "code",
      "metadata": {
        "id": "1BYXFRR2kgmY",
        "colab_type": "code",
        "outputId": "416eaa39-4d4d-4049-9291-53e70a7920e4",
        "colab": {
          "base_uri": "https://localhost:8080/",
          "height": 276
        }
      },
      "source": [
        "print(superhost_bed)\n"
      ],
      "execution_count": 0,
      "outputs": [
        {
          "output_type": "stream",
          "text": [
            "host_is_superhost  bedrooms\n",
            "f                  0.0         154.557196\n",
            "                   1.0         137.819358\n",
            "                   2.0         256.589744\n",
            "                   3.0         309.647482\n",
            "                   4.0         371.542857\n",
            "                   5.0         323.500000\n",
            "t                  0.0         156.562500\n",
            "                   1.0         125.325342\n",
            "                   2.0         278.318841\n",
            "                   3.0         375.250000\n",
            "                   4.0         451.900000\n",
            "                   5.0         745.500000\n",
            "Name: price, dtype: float64\n"
          ],
          "name": "stdout"
        }
      ]
    },
    {
      "cell_type": "code",
      "metadata": {
        "id": "E-HmYSC7_Hxr",
        "colab_type": "code",
        "colab": {}
      },
      "source": [
        "print(superhost_bath)"
      ],
      "execution_count": 0,
      "outputs": []
    },
    {
      "cell_type": "code",
      "metadata": {
        "id": "PCnWxULcmxZa",
        "colab_type": "code",
        "outputId": "2f42bbd4-1fa9-4a08-ff3b-c755bedebd01",
        "colab": {
          "base_uri": "https://localhost:8080/",
          "height": 91
        }
      },
      "source": [
        "superhost_review = features_df.groupby(['host_is_superhost']).review_scores_rating.mean()\n",
        "superhost_review\n",
        "\n"
      ],
      "execution_count": 0,
      "outputs": [
        {
          "output_type": "execute_result",
          "data": {
            "text/plain": [
              "host_is_superhost\n",
              "f    91.061817\n",
              "t    97.076142\n",
              "Name: review_scores_rating, dtype: float64"
            ]
          },
          "metadata": {
            "tags": []
          },
          "execution_count": 17
        }
      ]
    },
    {
      "cell_type": "code",
      "metadata": {
        "id": "5bDdv9KReCHz",
        "colab_type": "code",
        "colab": {}
      },
      "source": [
        ""
      ],
      "execution_count": 0,
      "outputs": []
    },
    {
      "cell_type": "markdown",
      "metadata": {
        "id": "FkyJ5O3fB_Ij",
        "colab_type": "text"
      },
      "source": [
        "superhosts tend to have a higher rating as compared to normal rooms"
      ]
    },
    {
      "cell_type": "code",
      "metadata": {
        "id": "-wXUDgavlFmJ",
        "colab_type": "code",
        "outputId": "b63e37c7-cc57-464d-a933-5f6a5b97003c",
        "colab": {
          "base_uri": "https://localhost:8080/",
          "height": 91
        }
      },
      "source": [
        "superhost_avai =  features_df.groupby(['host_is_superhost']).availability_365.mean()\n",
        "superhost_avai\n",
        "\n"
      ],
      "execution_count": 0,
      "outputs": [
        {
          "output_type": "execute_result",
          "data": {
            "text/plain": [
              "host_is_superhost\n",
              "f    176.670862\n",
              "t    200.238329\n",
              "Name: availability_365, dtype: float64"
            ]
          },
          "metadata": {
            "tags": []
          },
          "execution_count": 43
        }
      ]
    },
    {
      "cell_type": "code",
      "metadata": {
        "id": "7-CJP5HkOOjB",
        "colab_type": "code",
        "outputId": "84a8cec1-2ea4-4b97-ca64-203fd2ea2da2",
        "colab": {
          "base_uri": "https://localhost:8080/",
          "height": 35
        }
      },
      "source": [
        "features_df['price'].isnull().sum()"
      ],
      "execution_count": 17,
      "outputs": [
        {
          "output_type": "execute_result",
          "data": {
            "text/plain": [
              "0"
            ]
          },
          "metadata": {
            "tags": []
          },
          "execution_count": 17
        }
      ]
    },
    {
      "cell_type": "markdown",
      "metadata": {
        "id": "MrkKcwgUDeZl",
        "colab_type": "text"
      },
      "source": [
        "superhosts tend to have a higher availabilty than normal rooms"
      ]
    },
    {
      "cell_type": "code",
      "metadata": {
        "id": "kKwQK2h28on0",
        "colab_type": "code",
        "outputId": "2fc3dc9e-c019-4f54-ee85-1db47b8afb0b",
        "colab": {
          "base_uri": "https://localhost:8080/",
          "height": 645
        }
      },
      "source": [
        "num_cols = li.select_dtypes(include=['float', 'int']).columns\n",
        "for col in num_cols:\n",
        "    print(col,features_df[col].isnull().sum())"
      ],
      "execution_count": 18,
      "outputs": [
        {
          "output_type": "stream",
          "text": [
            "id 0\n",
            "scrape_id 0\n",
            "host_id 0\n",
            "host_listings_count 0\n",
            "host_total_listings_count 0\n",
            "neighbourhood_group_cleansed 3585\n",
            "latitude 0\n",
            "longitude 0\n",
            "accommodates 0\n",
            "bathrooms 14\n",
            "bedrooms 10\n",
            "beds 9\n",
            "square_feet 3529\n",
            "price 0\n",
            "guests_included 0\n",
            "minimum_nights 0\n",
            "maximum_nights 0\n",
            "has_availability 3585\n",
            "availability_30 0\n",
            "availability_60 0\n",
            "availability_90 0\n",
            "availability_365 0\n",
            "number_of_reviews 0\n",
            "review_scores_rating 813\n",
            "review_scores_accuracy 823\n",
            "review_scores_cleanliness 818\n",
            "review_scores_checkin 820\n",
            "review_scores_communication 818\n",
            "review_scores_location 822\n",
            "review_scores_value 821\n",
            "license 3585\n",
            "jurisdiction_names 3585\n",
            "calculated_host_listings_count 0\n",
            "reviews_per_month 756\n"
          ],
          "name": "stdout"
        }
      ]
    },
    {
      "cell_type": "code",
      "metadata": {
        "id": "mzhoqhe1D7Sn",
        "colab_type": "code",
        "colab": {}
      },
      "source": [
        "!pip install scikit-learn==0.19.1"
      ],
      "execution_count": 0,
      "outputs": []
    },
    {
      "cell_type": "code",
      "metadata": {
        "id": "U5gAX5dVPJ9q",
        "colab_type": "code",
        "colab": {}
      },
      "source": [
        "\n",
        "features_df['bathrooms'] = features_df['bathrooms'].fillna(0)\n",
        "\n",
        "# Set 1 for bedrooms where bedrooms is Nan\n",
        "features_df['bedrooms'] = features_df['bedrooms'].fillna(1)\n",
        "\n",
        "# Set 1 for beds where beds is Nan\n",
        "features_df['beds'] = features_df['beds'].fillna(1)\n",
        "features_df['review_scores_rating']= features_df['review_scores_rating'].fillna(0)\n",
        "features_df['availability_365']=features_df['availability_365'].fillna(0)\n",
        "features_df['host_listings_count'] = features_df['host_listings_count'].fillna(1)\n",
        "features_df['host_total_listings_count'] = features_df['host_total_listings_count'].fillna(1)"
      ],
      "execution_count": 0,
      "outputs": []
    },
    {
      "cell_type": "code",
      "metadata": {
        "id": "V9_14lNUovAA",
        "colab_type": "code",
        "colab": {}
      },
      "source": [
        "def set_bool_tf(tfdata):\n",
        "    '''\n",
        "    Function to set all true/false fields to 1 or 0\n",
        "    INPUT:\n",
        "    tfdata - the true or false fields that have 't' and 'f' values that we would like to convert to boolean\n",
        "    OUTPUT:\n",
        "    Boolean 0 or 1 - Returns 0 if false, 1 for true\n",
        "    \n",
        "    Converts a true or false type field into a boolean with 1 and 0s\n",
        "    '''\n",
        "    if tfdata == 't':\n",
        "        return 1\n",
        "    else: \n",
        "        return 0\n",
        "\n",
        "tf_fields = ['host_is_superhost']\n",
        "for t in tf_fields:\n",
        "    features_df[t] =features_df[t].apply(set_bool_tf)"
      ],
      "execution_count": 0,
      "outputs": []
    },
    {
      "cell_type": "code",
      "metadata": {
        "id": "xFfYia2bFiRH",
        "colab_type": "code",
        "colab": {}
      },
      "source": [
        "x = features_df[['bedrooms','beds','bathrooms','review_scores_rating','availability_365','host_is_superhost']]\n",
        "y = features_df[['price']]"
      ],
      "execution_count": 0,
      "outputs": []
    },
    {
      "cell_type": "code",
      "metadata": {
        "id": "kwS_FMqhBx1T",
        "colab_type": "code",
        "outputId": "8d0c4b1a-fa0c-40f8-b6b9-f57f3814f32d",
        "colab": {
          "base_uri": "https://localhost:8080/",
          "height": 74
        }
      },
      "source": [
        "X_train, X_test, y_train, y_test = train_test_split(x, y, test_size = .30, random_state=42) \n",
        "lm_model = LinearRegression(normalize=True) \n",
        "lm_model.fit(X_train, y_train) \n",
        "        \n",
        "# Predict and score the model\n",
        "y_train_preds = lm_model.predict(X_train)\n",
        "y_test_preds = lm_model.predict(X_test) \n",
        "train_score = r2_score(y_train, y_train_preds)\n",
        "test_score = r2_score(y_test,y_test_preds)\n",
        "print(lm_model.fit(X_train, y_train))\n",
        "print(\"The rsquared score on the training data was {}.  The rsquared score on the test data was {}.\".format(train_score, test_score))"
      ],
      "execution_count": 0,
      "outputs": [
        {
          "output_type": "stream",
          "text": [
            "LinearRegression(copy_X=True, fit_intercept=True, n_jobs=None, normalize=True)\n",
            "The rsquared score on the training data was 0.20131883716156984.  The rsquared score on the test data was 0.14676522476901.\n"
          ],
          "name": "stdout"
        }
      ]
    },
    {
      "cell_type": "code",
      "metadata": {
        "id": "-gU9Mu_p3bEJ",
        "colab_type": "code",
        "outputId": "425ac0b3-d373-4601-e657-35d661e91106",
        "colab": {
          "base_uri": "https://localhost:8080/",
          "height": 35
        }
      },
      "source": [
        "x1 = features_df['price'].corr(features_df['beds'])\n",
        "x2 = features_df['price'].corr(features_df['bedrooms'])\n",
        "x3 = features_df['price'].corr(features_df['bathrooms'])\n",
        "x4 = features_df['price'].corr(features_df['review_scores_rating'])\n",
        "x5 = features_df['price'].corr(features_df['availability_365'])\n",
        "x6 = features_df['price'].corr(features_df['host_is_superhost'])\n",
        "\n",
        "print(x1,x2,x3,x4,x5,x6)\n"
      ],
      "execution_count": 31,
      "outputs": [
        {
          "output_type": "stream",
          "text": [
            "0.37001324398772867 0.38529776663433657 0.24823363442414353 0.10565059482278757 0.03669410552826106 nan\n"
          ],
          "name": "stdout"
        }
      ]
    },
    {
      "cell_type": "markdown",
      "metadata": {
        "id": "0vIWVPRtmSCI",
        "colab_type": "text"
      },
      "source": [
        "the correlation of price is strongest with  bedrooms "
      ]
    },
    {
      "cell_type": "markdown",
      "metadata": {
        "id": "la3u6veikHWp",
        "colab_type": "text"
      },
      "source": [
        ""
      ]
    },
    {
      "cell_type": "code",
      "metadata": {
        "id": "NBFtsmmQRlmk",
        "colab_type": "code",
        "colab": {}
      },
      "source": [
        ""
      ],
      "execution_count": 0,
      "outputs": []
    }
  ]
}